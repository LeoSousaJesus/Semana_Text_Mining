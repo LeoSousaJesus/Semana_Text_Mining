{
  "nbformat": 4,
  "nbformat_minor": 0,
  "metadata": {
    "colab": {
      "provenance": [],
      "authorship_tag": "ABX9TyPMTmkJFqMBsJOOS+g0EB7P",
      "include_colab_link": true
    },
    "kernelspec": {
      "name": "python3",
      "display_name": "Python 3"
    },
    "language_info": {
      "name": "python"
    }
  },
  "cells": [
    {
      "cell_type": "markdown",
      "metadata": {
        "id": "view-in-github",
        "colab_type": "text"
      },
      "source": [
        "<a href=\"https://colab.research.google.com/github/LeoSousaJesus/Semana_Text_Mining/blob/main/aulaapi.ipynb\" target=\"_parent\"><img src=\"https://colab.research.google.com/assets/colab-badge.svg\" alt=\"Open In Colab\"/></a>"
      ]
    },
    {
      "cell_type": "markdown",
      "source": [
        "# Aula APIs"
      ],
      "metadata": {
        "id": "d1He4VQwPTc1"
      }
    },
    {
      "cell_type": "markdown",
      "source": [
        "# API Pokemons"
      ],
      "metadata": {
        "id": "eqySbRuRPRm5"
      }
    },
    {
      "cell_type": "code",
      "source": [
        "from IPython.display import Image\n",
        "\n",
        "# Importando bibilotecas\n",
        "import requests\n",
        "\n",
        "# URL da API\n",
        "url = \"https://pokeapi.co/api/v2/pokemon/25\"\n",
        "\n",
        "# Enviando a requisição\n",
        "response = requests.get(url)\n",
        "\n",
        "# Acesse o dicionário de sprites e depois a chave front_default para a URL da imagem\n",
        "image_url = response.json()['sprites']['front_default']\n",
        "\n",
        "# Exibindo a imagem\n",
        "display(Image(url=image_url))\n",
        "\n",
        "#print(response.text)\n",
        "\n",
        "if response.status_code == 200:\n",
        "    data = response.json()\n",
        "    print(f\"Nome: {data['name']}\")\n",
        "    print(f\"ID: {data['id']}\")\n",
        "    print(f\"Altura: {data['height']}\")\n",
        "    print(f\"Peso: {data['weight']}\")\n",
        "\n",
        "    print(\"Tipos:\")\n",
        "    for tipo in data['types']:\n",
        "        print(f\"- {tipo['type']['name']}\")\n",
        "else:\n",
        "    print(f\"Erro {response.status_code}: Não foi possível obter os dados\")"
      ],
      "metadata": {
        "colab": {
          "base_uri": "https://localhost:8080/",
          "height": 226
        },
        "id": "sN4F1wO7Qs_o",
        "outputId": "1005245f-13f8-46fe-a5df-c06c5ce1b714"
      },
      "execution_count": 2,
      "outputs": [
        {
          "output_type": "display_data",
          "data": {
            "text/html": [
              "<img src=\"https://raw.githubusercontent.com/PokeAPI/sprites/master/sprites/pokemon/25.png\"/>"
            ],
            "text/plain": [
              "<IPython.core.display.Image object>"
            ]
          },
          "metadata": {}
        },
        {
          "output_type": "stream",
          "name": "stdout",
          "text": [
            "Nome: pikachu\n",
            "ID: 25\n",
            "Altura: 4\n",
            "Peso: 60\n",
            "Tipos:\n",
            "- electric\n"
          ]
        }
      ]
    },
    {
      "cell_type": "markdown",
      "source": [
        "# API The Dog"
      ],
      "metadata": {
        "id": "qhoBoAAGYGS-"
      }
    },
    {
      "cell_type": "code",
      "source": [
        "from IPython.display import Image\n",
        "import requests\n",
        "\n",
        "\n",
        "# Definindo a chave da API\n",
        "api_key = \"live_yjjcanPfmtXCVAJvjCtP3dFBB59SeVTL4b7ClpRl2lqXW4U6DlmUJ4v3qrWLH2uE\"\n",
        "\n",
        "# URL da API\n",
        "url = f\"https://api.thedogapi.com/v1/images/search?api_key={api_key}\"\n",
        "\n",
        "response = requests.get(url)\n",
        "\n",
        "# Acessando o URL da resposta json\n",
        "image_url = response.json()[0]['url']\n",
        "\n",
        "# Exibindo a imagem\n",
        "display(Image(url=image_url))\n",
        "\n",
        "print(response.text)\n",
        "\n",
        "# Tratando os dados\n",
        "data = response.json()\n",
        "\n",
        "#print(data[0],['url'])\n",
        "#print(response)"
      ],
      "metadata": {
        "colab": {
          "base_uri": "https://localhost:8080/",
          "height": 1000
        },
        "id": "ug_Wr00aYJjF",
        "outputId": "4bbe7361-1faf-405e-c880-732b22f2c1d1"
      },
      "execution_count": 34,
      "outputs": [
        {
          "output_type": "display_data",
          "data": {
            "text/html": [
              "<img src=\"https://cdn2.thedogapi.com/images/ZrJ_J-FIY.jpg\"/>"
            ],
            "text/plain": [
              "<IPython.core.display.Image object>"
            ]
          },
          "metadata": {}
        },
        {
          "output_type": "stream",
          "name": "stdout",
          "text": [
            "[{\"breeds\":[{\"weight\":{\"imperial\":\"20 - 24\",\"metric\":\"9 - 11\"},\"height\":{\"imperial\":\"14 - 17\",\"metric\":\"36 - 43\"},\"id\":246,\"name\":\"Tibetan Terrier\",\"bred_for\":\"Good luck charms, mascots, watchdogs, herding dogs, and companions\",\"breed_group\":\"Non-Sporting\",\"life_span\":\"12 - 15 years\",\"temperament\":\"Affectionate, Energetic, Amiable, Reserved, Gentle, Sensitive\",\"reference_image_id\":\"6f5n_42mB\"}],\"id\":\"ZrJ_J-FIY\",\"url\":\"https://cdn2.thedogapi.com/images/ZrJ_J-FIY.jpg\",\"width\":1080,\"height\":1350}]\n"
          ]
        }
      ]
    },
    {
      "cell_type": "markdown",
      "source": [
        "# API The Cat"
      ],
      "metadata": {
        "id": "xuUgEa-WcTfv"
      }
    },
    {
      "cell_type": "code",
      "source": [
        "from IPython.display import Image\n",
        "\n",
        "# Definindo a chave da API\n",
        "api_key = \"live_yjjcanPfmtXCVAJvjCtP3dFBB59SeVTL4b7ClpRl2lqXW4U6DlmUJ4v3qrWLH2uE\"\n",
        "\n",
        "# URL da API\n",
        "url = f\"https://api.thecatapi.com/v1/images/search?api_key={api_key}\"\n",
        "\n",
        "response = requests.get(url)\n",
        "\n",
        "# Acessando os dados JSON\n",
        "data = response.json()\n",
        "\n",
        "# Extraindo a Url da imagem\n",
        "image_url = data[0]['url']\n",
        "\n",
        "# Exibindo a imagem\n",
        "display(Image(url=image_url))\n",
        "\n",
        "#print(response.text)\n",
        "\n",
        "#print(response)\n",
        "\n",
        "# Tratando os dados\n",
        "#data = response.json()\n",
        "\n",
        "#print(data[0],['url'])"
      ],
      "metadata": {
        "colab": {
          "base_uri": "https://localhost:8080/",
          "height": 273
        },
        "id": "-MS798VScbHG",
        "outputId": "a8de4c5d-a493-4bac-a591-79bdc4a7854b"
      },
      "execution_count": 35,
      "outputs": [
        {
          "output_type": "display_data",
          "data": {
            "text/html": [
              "<img src=\"https://cdn2.thecatapi.com/images/7si.gif\"/>"
            ],
            "text/plain": [
              "<IPython.core.display.Image object>"
            ]
          },
          "metadata": {}
        }
      ]
    },
    {
      "cell_type": "markdown",
      "source": [
        "# API NASA"
      ],
      "metadata": {
        "id": "NhKBL0sKlLHi"
      }
    },
    {
      "cell_type": "code",
      "source": [
        "from IPython.display import Image\n",
        "\n",
        "# Chave da API\n",
        "api_key = \"93XcsvH8dQRboSblD1V7Qcs1uuyMciUcSTVhtcM5\"\n",
        "\n",
        "# Definindo o endpoint\n",
        "endpoint = \"/planetary/apod\"\n",
        "#endpoint = \"/planetary/earth/imagery\n",
        "\n",
        "# Definindo a URL da API\n",
        "url = f\"https://api.nasa.gov{endpoint}?api_key={api_key}\"\n",
        "\n",
        "# Enviando a requisição\n",
        "response = requests.get(url).json()\n",
        "\n",
        "image_url = response['url']\n",
        "\n",
        "# Exibindo a imagem\n",
        "display(Image(url=image_url))\n",
        "\n",
        "# print(f\"Data: {response['date']}\")\n",
        "# print(f\"URL da Imagem: {response['url']}\")\n",
        "# print(f\"Descrição: {response['explanation']}\")\n",
        "#print(response)"
      ],
      "metadata": {
        "colab": {
          "base_uri": "https://localhost:8080/",
          "height": 1000
        },
        "id": "qPd0uvfrlUPB",
        "outputId": "81893654-05f0-4719-e326-f7b1d2bd81fc"
      },
      "execution_count": 36,
      "outputs": [
        {
          "output_type": "display_data",
          "data": {
            "text/html": [
              "<img src=\"https://apod.nasa.gov/apod/image/2409/NightTatra_Rosadzinski_960.jpg\"/>"
            ],
            "text/plain": [
              "<IPython.core.display.Image object>"
            ]
          },
          "metadata": {}
        }
      ]
    },
    {
      "cell_type": "markdown",
      "source": [
        "# API Star Wars"
      ],
      "metadata": {
        "id": "XYqExg-Tvh8G"
      }
    },
    {
      "cell_type": "code",
      "source": [
        "from IPython.display import Image\n",
        "import requests\n",
        "\n",
        "# Definindo endpoint\n",
        "endpoint = \"/people\"\n",
        "\n",
        "# Definindo a URL da API\n",
        "url = f\"https://swapi.dev/api{endpoint}\"\n",
        "\n",
        "# Fazendo a requisição\n",
        "response = requests.get(url).json()\n",
        "\n",
        "# Iterando no dicionário retornado\n",
        "for pessoa in response['results']:\n",
        "    print(\"=\" *40)\n",
        "    print(f\"Nome: {pessoa['name']}\")\n",
        "    print(f\"Gênero: {pessoa['gender']}\")\n",
        "    print(f\"Altura: {pessoa['height']} cm\")\n",
        "    print(f\"Peso: {pessoa['mass']} kg\")\n",
        "    print(\"Participação em: \")\n",
        "\n",
        "# iterando em cada filme\n",
        "    for filme_url in pessoa['films']:\n",
        "        response_filme = requests.get(filme_url).json()\n",
        "        print(f\"- {response_filme['title']}\")\n"
      ],
      "metadata": {
        "colab": {
          "base_uri": "https://localhost:8080/"
        },
        "id": "q5Dk4d2ovlwl",
        "outputId": "bcc90802-6079-4a4c-c23b-542f5ffb3580"
      },
      "execution_count": 40,
      "outputs": [
        {
          "output_type": "stream",
          "name": "stdout",
          "text": [
            "========================================\n",
            "Nome: Luke Skywalker\n",
            "Gênero: male\n",
            "Altura: 172 cm\n",
            "Peso: 77 kg\n",
            "Participação em: \n",
            "- A New Hope\n",
            "- The Empire Strikes Back\n",
            "- Return of the Jedi\n",
            "- Revenge of the Sith\n",
            "========================================\n",
            "Nome: C-3PO\n",
            "Gênero: n/a\n",
            "Altura: 167 cm\n",
            "Peso: 75 kg\n",
            "Participação em: \n",
            "- A New Hope\n",
            "- The Empire Strikes Back\n",
            "- Return of the Jedi\n",
            "- The Phantom Menace\n",
            "- Attack of the Clones\n",
            "- Revenge of the Sith\n",
            "========================================\n",
            "Nome: R2-D2\n",
            "Gênero: n/a\n",
            "Altura: 96 cm\n",
            "Peso: 32 kg\n",
            "Participação em: \n",
            "- A New Hope\n",
            "- The Empire Strikes Back\n",
            "- Return of the Jedi\n",
            "- The Phantom Menace\n",
            "- Attack of the Clones\n",
            "- Revenge of the Sith\n",
            "========================================\n",
            "Nome: Darth Vader\n",
            "Gênero: male\n",
            "Altura: 202 cm\n",
            "Peso: 136 kg\n",
            "Participação em: \n",
            "- A New Hope\n",
            "- The Empire Strikes Back\n",
            "- Return of the Jedi\n",
            "- Revenge of the Sith\n",
            "========================================\n",
            "Nome: Leia Organa\n",
            "Gênero: female\n",
            "Altura: 150 cm\n",
            "Peso: 49 kg\n",
            "Participação em: \n",
            "- A New Hope\n",
            "- The Empire Strikes Back\n",
            "- Return of the Jedi\n",
            "- Revenge of the Sith\n",
            "========================================\n",
            "Nome: Owen Lars\n",
            "Gênero: male\n",
            "Altura: 178 cm\n",
            "Peso: 120 kg\n",
            "Participação em: \n",
            "- A New Hope\n",
            "- Attack of the Clones\n",
            "- Revenge of the Sith\n",
            "========================================\n",
            "Nome: Beru Whitesun lars\n",
            "Gênero: female\n",
            "Altura: 165 cm\n",
            "Peso: 75 kg\n",
            "Participação em: \n",
            "- A New Hope\n",
            "- Attack of the Clones\n",
            "- Revenge of the Sith\n",
            "========================================\n",
            "Nome: R5-D4\n",
            "Gênero: n/a\n",
            "Altura: 97 cm\n",
            "Peso: 32 kg\n",
            "Participação em: \n",
            "- A New Hope\n",
            "========================================\n",
            "Nome: Biggs Darklighter\n",
            "Gênero: male\n",
            "Altura: 183 cm\n",
            "Peso: 84 kg\n",
            "Participação em: \n",
            "- A New Hope\n",
            "========================================\n",
            "Nome: Obi-Wan Kenobi\n",
            "Gênero: male\n",
            "Altura: 182 cm\n",
            "Peso: 77 kg\n",
            "Participação em: \n",
            "- A New Hope\n",
            "- The Empire Strikes Back\n",
            "- Return of the Jedi\n",
            "- The Phantom Menace\n",
            "- Attack of the Clones\n",
            "- Revenge of the Sith\n"
          ]
        }
      ]
    },
    {
      "cell_type": "markdown",
      "source": [
        "# API Trivia"
      ],
      "metadata": {
        "id": "Dg5C7vr9zcbb"
      }
    },
    {
      "cell_type": "code",
      "source": [
        "! pip install googletrans==4.0.0-rc1\n",
        "# Instalar a biblioteca (se necessário, rodar apenas uma vez no notebook)"
      ],
      "metadata": {
        "colab": {
          "base_uri": "https://localhost:8080/"
        },
        "id": "Cts5jTDJozuM",
        "outputId": "1c6d9e93-f07d-4d3c-a3f8-98ce8de7ec0c"
      },
      "execution_count": 3,
      "outputs": [
        {
          "output_type": "stream",
          "name": "stdout",
          "text": [
            "Requirement already satisfied: googletrans==4.0.0-rc1 in /usr/local/lib/python3.10/dist-packages (4.0.0rc1)\n",
            "Requirement already satisfied: httpx==0.13.3 in /usr/local/lib/python3.10/dist-packages (from googletrans==4.0.0-rc1) (0.13.3)\n",
            "Requirement already satisfied: certifi in /usr/local/lib/python3.10/dist-packages (from httpx==0.13.3->googletrans==4.0.0-rc1) (2024.8.30)\n",
            "Requirement already satisfied: hstspreload in /usr/local/lib/python3.10/dist-packages (from httpx==0.13.3->googletrans==4.0.0-rc1) (2024.9.1)\n",
            "Requirement already satisfied: sniffio in /usr/local/lib/python3.10/dist-packages (from httpx==0.13.3->googletrans==4.0.0-rc1) (1.3.1)\n",
            "Requirement already satisfied: chardet==3.* in /usr/local/lib/python3.10/dist-packages (from httpx==0.13.3->googletrans==4.0.0-rc1) (3.0.4)\n",
            "Requirement already satisfied: idna==2.* in /usr/local/lib/python3.10/dist-packages (from httpx==0.13.3->googletrans==4.0.0-rc1) (2.10)\n",
            "Requirement already satisfied: rfc3986<2,>=1.3 in /usr/local/lib/python3.10/dist-packages (from httpx==0.13.3->googletrans==4.0.0-rc1) (1.5.0)\n",
            "Requirement already satisfied: httpcore==0.9.* in /usr/local/lib/python3.10/dist-packages (from httpx==0.13.3->googletrans==4.0.0-rc1) (0.9.1)\n",
            "Requirement already satisfied: h11<0.10,>=0.8 in /usr/local/lib/python3.10/dist-packages (from httpcore==0.9.*->httpx==0.13.3->googletrans==4.0.0-rc1) (0.9.0)\n",
            "Requirement already satisfied: h2==3.* in /usr/local/lib/python3.10/dist-packages (from httpcore==0.9.*->httpx==0.13.3->googletrans==4.0.0-rc1) (3.2.0)\n",
            "Requirement already satisfied: hyperframe<6,>=5.2.0 in /usr/local/lib/python3.10/dist-packages (from h2==3.*->httpcore==0.9.*->httpx==0.13.3->googletrans==4.0.0-rc1) (5.2.0)\n",
            "Requirement already satisfied: hpack<4,>=3.0 in /usr/local/lib/python3.10/dist-packages (from h2==3.*->httpcore==0.9.*->httpx==0.13.3->googletrans==4.0.0-rc1) (3.0.0)\n"
          ]
        }
      ]
    },
    {
      "cell_type": "code",
      "source": [
        "import requests\n",
        "from googletrans import Translator\n",
        "\n",
        "# Definir a URL da API\n",
        "url = \"https://opentdb.com/api.php?amount=10\"\n",
        "\n",
        "# Fazer a requisição\n",
        "response = requests.get(url).json()\n",
        "\n",
        "# Criar o tradutor\n",
        "tradutor = Translator()\n",
        "\n",
        "# Iterar na lista retornada e traduzir as perguntas\n",
        "for pergunta in response['results']:\n",
        "    pergunta_original = pergunta['question']\n",
        "    traducao = tradutor.translate(pergunta_original, dest='pt').text\n",
        "    print(f\"Pergunta (original): {pergunta_original}\")\n",
        "    print(f\"Pergunta (traduzida): {traducao}\\n\")"
      ],
      "metadata": {
        "colab": {
          "base_uri": "https://localhost:8080/"
        },
        "id": "Akl0FAiuzhvE",
        "outputId": "aab19552-29e5-4c77-d9b2-06418bb803d0"
      },
      "execution_count": 4,
      "outputs": [
        {
          "output_type": "stream",
          "name": "stdout",
          "text": [
            "Pergunta (original): Which of these characters was NOT planned to be playable for Super Smash Bros. 64?\n",
            "Pergunta (traduzida): Qual desses personagens não estava planejado para ser jogável para o Super Smash Bros. 64?\n",
            "\n",
            "Pergunta (original): In the &quot;Call Of Duty: Zombies&quot; map &quot;Moon&quot;, there is a secondary called the QED. What does QED stand for?\n",
            "Pergunta (traduzida): No \"Call of Duty: Zombies\"mapa \"lua\", existe um secundário chamado QED.O que o QED significa?\n",
            "\n",
            "Pergunta (original): Which album was released by Kanye West in 2013?\n",
            "Pergunta (traduzida): Qual álbum foi lançado por Kanye West em 2013?\n",
            "\n",
            "Pergunta (original): Who wrote the award winning musical &quot;In The Heights&quot;?\n",
            "Pergunta (traduzida): Que escreveu o premiado musical \"em The Heights\"?\n",
            "\n",
            "Pergunta (original): Who was the first American in space?\n",
            "Pergunta (traduzida): Quem foi o primeiro americano no espaço?\n",
            "\n",
            "Pergunta (original): Scatman John&#039;s real name was John Paul Larkin.\n",
            "Pergunta (traduzida): O nome real de Scatman John era John Paul Larkin.\n",
            "\n",
            "Pergunta (original): In the game &quot;Hearthstone&quot;, what is the best rank possible?\n",
            "Pergunta (traduzida): No jogo \"Hearthstone\", qual é a melhor classificação possível?\n",
            "\n",
            "Pergunta (original): Who rode on horseback to warn the Minutemen that the British were coming during the U.S. Revolutionary War?\n",
            "Pergunta (traduzida): Quem andou a cavalo para alertar os minutemen que os britânicos estavam chegando durante a Guerra Revolucionária dos EUA?\n",
            "\n",
            "Pergunta (original): In the videogame Bully, what is the protagonist&#039;s last name?\n",
            "Pergunta (traduzida): No valentão do videogame, qual é o sobrenome do protagonista?\n",
            "\n",
            "Pergunta (original): Which NBA player won Most Valuable Player for the 1999-2000 season?\n",
            "Pergunta (traduzida): Qual jogador da NBA venceu o jogador mais valioso na temporada 1999-2000?\n",
            "\n"
          ]
        }
      ]
    }
  ]
}