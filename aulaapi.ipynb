{
  "nbformat": 4,
  "nbformat_minor": 0,
  "metadata": {
    "colab": {
      "provenance": [],
      "authorship_tag": "ABX9TyMZ6Uj1Ya7WLVDRFCSkl6XV",
      "include_colab_link": true
    },
    "kernelspec": {
      "name": "python3",
      "display_name": "Python 3"
    },
    "language_info": {
      "name": "python"
    }
  },
  "cells": [
    {
      "cell_type": "markdown",
      "metadata": {
        "id": "view-in-github",
        "colab_type": "text"
      },
      "source": [
        "<a href=\"https://colab.research.google.com/github/LeoSousaJesus/Semana_Text_Mining/blob/main/aulaapi.ipynb\" target=\"_parent\"><img src=\"https://colab.research.google.com/assets/colab-badge.svg\" alt=\"Open In Colab\"/></a>"
      ]
    },
    {
      "cell_type": "markdown",
      "source": [
        "# Aula APIs"
      ],
      "metadata": {
        "id": "d1He4VQwPTc1"
      }
    },
    {
      "cell_type": "markdown",
      "source": [
        "# API Pokemons"
      ],
      "metadata": {
        "id": "eqySbRuRPRm5"
      }
    },
    {
      "cell_type": "code",
      "source": [
        "# Importando bibilotecas\n",
        "import requests\n",
        "\n",
        "# URL da API\n",
        "url = \"https://pokeapi.co/api/v2/pokemon/132\"\n",
        "\n",
        "# Enviando a requisição\n",
        "response = requests.get(url)\n",
        "\n",
        "print(response.text)\n",
        "\n",
        "if response.status_code == 200:\n",
        "    data = response.json()\n",
        "    print(f\"Nome: {data['name']}\")\n",
        "    print(f\"ID: {data['id']}\")\n",
        "    print(f\"Altura: {data['height']}\")\n",
        "    print(f\"Peso: {data['weight']}\")\n",
        "\n",
        "    print(\"Tipos:\")\n",
        "    for tipo in data['types']:\n",
        "        print(f\"- {tipo['type']['name']}\")\n",
        "else:\n",
        "    print(f\"Erro {response.status_code}: Não foi possível obter os dados\")"
      ],
      "metadata": {
        "colab": {
          "base_uri": "https://localhost:8080/"
        },
        "id": "sN4F1wO7Qs_o",
        "outputId": "e9630d82-4a22-475a-c9fa-f793ce128016"
      },
      "execution_count": 31,
      "outputs": [
        {
          "output_type": "stream",
          "name": "stdout",
          "text": [
            "{\"abilities\":[{\"ability\":{\"name\":\"limber\",\"url\":\"https://pokeapi.co/api/v2/ability/7/\"},\"is_hidden\":false,\"slot\":1},{\"ability\":{\"name\":\"imposter\",\"url\":\"https://pokeapi.co/api/v2/ability/150/\"},\"is_hidden\":true,\"slot\":3}],\"base_experience\":101,\"cries\":{\"latest\":\"https://raw.githubusercontent.com/PokeAPI/cries/main/cries/pokemon/latest/132.ogg\",\"legacy\":\"https://raw.githubusercontent.com/PokeAPI/cries/main/cries/pokemon/legacy/132.ogg\"},\"forms\":[{\"name\":\"ditto\",\"url\":\"https://pokeapi.co/api/v2/pokemon-form/132/\"}],\"game_indices\":[{\"game_index\":76,\"version\":{\"name\":\"red\",\"url\":\"https://pokeapi.co/api/v2/version/1/\"}},{\"game_index\":76,\"version\":{\"name\":\"blue\",\"url\":\"https://pokeapi.co/api/v2/version/2/\"}},{\"game_index\":76,\"version\":{\"name\":\"yellow\",\"url\":\"https://pokeapi.co/api/v2/version/3/\"}},{\"game_index\":132,\"version\":{\"name\":\"gold\",\"url\":\"https://pokeapi.co/api/v2/version/4/\"}},{\"game_index\":132,\"version\":{\"name\":\"silver\",\"url\":\"https://pokeapi.co/api/v2/version/5/\"}},{\"game_index\":132,\"version\":{\"name\":\"crystal\",\"url\":\"https://pokeapi.co/api/v2/version/6/\"}},{\"game_index\":132,\"version\":{\"name\":\"ruby\",\"url\":\"https://pokeapi.co/api/v2/version/7/\"}},{\"game_index\":132,\"version\":{\"name\":\"sapphire\",\"url\":\"https://pokeapi.co/api/v2/version/8/\"}},{\"game_index\":132,\"version\":{\"name\":\"emerald\",\"url\":\"https://pokeapi.co/api/v2/version/9/\"}},{\"game_index\":132,\"version\":{\"name\":\"firered\",\"url\":\"https://pokeapi.co/api/v2/version/10/\"}},{\"game_index\":132,\"version\":{\"name\":\"leafgreen\",\"url\":\"https://pokeapi.co/api/v2/version/11/\"}},{\"game_index\":132,\"version\":{\"name\":\"diamond\",\"url\":\"https://pokeapi.co/api/v2/version/12/\"}},{\"game_index\":132,\"version\":{\"name\":\"pearl\",\"url\":\"https://pokeapi.co/api/v2/version/13/\"}},{\"game_index\":132,\"version\":{\"name\":\"platinum\",\"url\":\"https://pokeapi.co/api/v2/version/14/\"}},{\"game_index\":132,\"version\":{\"name\":\"heartgold\",\"url\":\"https://pokeapi.co/api/v2/version/15/\"}},{\"game_index\":132,\"version\":{\"name\":\"soulsilver\",\"url\":\"https://pokeapi.co/api/v2/version/16/\"}},{\"game_index\":132,\"version\":{\"name\":\"black\",\"url\":\"https://pokeapi.co/api/v2/version/17/\"}},{\"game_index\":132,\"version\":{\"name\":\"white\",\"url\":\"https://pokeapi.co/api/v2/version/18/\"}},{\"game_index\":132,\"version\":{\"name\":\"black-2\",\"url\":\"https://pokeapi.co/api/v2/version/21/\"}},{\"game_index\":132,\"version\":{\"name\":\"white-2\",\"url\":\"https://pokeapi.co/api/v2/version/22/\"}}],\"height\":3,\"held_items\":[{\"item\":{\"name\":\"metal-powder\",\"url\":\"https://pokeapi.co/api/v2/item/234/\"},\"version_details\":[{\"rarity\":5,\"version\":{\"name\":\"ruby\",\"url\":\"https://pokeapi.co/api/v2/version/7/\"}},{\"rarity\":5,\"version\":{\"name\":\"sapphire\",\"url\":\"https://pokeapi.co/api/v2/version/8/\"}},{\"rarity\":5,\"version\":{\"name\":\"emerald\",\"url\":\"https://pokeapi.co/api/v2/version/9/\"}},{\"rarity\":5,\"version\":{\"name\":\"firered\",\"url\":\"https://pokeapi.co/api/v2/version/10/\"}},{\"rarity\":5,\"version\":{\"name\":\"leafgreen\",\"url\":\"https://pokeapi.co/api/v2/version/11/\"}},{\"rarity\":5,\"version\":{\"name\":\"diamond\",\"url\":\"https://pokeapi.co/api/v2/version/12/\"}},{\"rarity\":5,\"version\":{\"name\":\"pearl\",\"url\":\"https://pokeapi.co/api/v2/version/13/\"}},{\"rarity\":5,\"version\":{\"name\":\"platinum\",\"url\":\"https://pokeapi.co/api/v2/version/14/\"}},{\"rarity\":5,\"version\":{\"name\":\"heartgold\",\"url\":\"https://pokeapi.co/api/v2/version/15/\"}},{\"rarity\":5,\"version\":{\"name\":\"soulsilver\",\"url\":\"https://pokeapi.co/api/v2/version/16/\"}},{\"rarity\":5,\"version\":{\"name\":\"black\",\"url\":\"https://pokeapi.co/api/v2/version/17/\"}},{\"rarity\":5,\"version\":{\"name\":\"white\",\"url\":\"https://pokeapi.co/api/v2/version/18/\"}},{\"rarity\":5,\"version\":{\"name\":\"black-2\",\"url\":\"https://pokeapi.co/api/v2/version/21/\"}},{\"rarity\":5,\"version\":{\"name\":\"white-2\",\"url\":\"https://pokeapi.co/api/v2/version/22/\"}},{\"rarity\":5,\"version\":{\"name\":\"x\",\"url\":\"https://pokeapi.co/api/v2/version/23/\"}},{\"rarity\":5,\"version\":{\"name\":\"y\",\"url\":\"https://pokeapi.co/api/v2/version/24/\"}},{\"rarity\":5,\"version\":{\"name\":\"omega-ruby\",\"url\":\"https://pokeapi.co/api/v2/version/25/\"}},{\"rarity\":5,\"version\":{\"name\":\"alpha-sapphire\",\"url\":\"https://pokeapi.co/api/v2/version/26/\"}},{\"rarity\":5,\"version\":{\"name\":\"sun\",\"url\":\"https://pokeapi.co/api/v2/version/27/\"}},{\"rarity\":5,\"version\":{\"name\":\"moon\",\"url\":\"https://pokeapi.co/api/v2/version/28/\"}},{\"rarity\":5,\"version\":{\"name\":\"ultra-sun\",\"url\":\"https://pokeapi.co/api/v2/version/29/\"}},{\"rarity\":5,\"version\":{\"name\":\"ultra-moon\",\"url\":\"https://pokeapi.co/api/v2/version/30/\"}}]},{\"item\":{\"name\":\"quick-powder\",\"url\":\"https://pokeapi.co/api/v2/item/251/\"},\"version_details\":[{\"rarity\":50,\"version\":{\"name\":\"diamond\",\"url\":\"https://pokeapi.co/api/v2/version/12/\"}},{\"rarity\":50,\"version\":{\"name\":\"pearl\",\"url\":\"https://pokeapi.co/api/v2/version/13/\"}},{\"rarity\":50,\"version\":{\"name\":\"platinum\",\"url\":\"https://pokeapi.co/api/v2/version/14/\"}},{\"rarity\":50,\"version\":{\"name\":\"heartgold\",\"url\":\"https://pokeapi.co/api/v2/version/15/\"}},{\"rarity\":50,\"version\":{\"name\":\"soulsilver\",\"url\":\"https://pokeapi.co/api/v2/version/16/\"}},{\"rarity\":50,\"version\":{\"name\":\"black\",\"url\":\"https://pokeapi.co/api/v2/version/17/\"}},{\"rarity\":50,\"version\":{\"name\":\"white\",\"url\":\"https://pokeapi.co/api/v2/version/18/\"}},{\"rarity\":50,\"version\":{\"name\":\"black-2\",\"url\":\"https://pokeapi.co/api/v2/version/21/\"}},{\"rarity\":50,\"version\":{\"name\":\"white-2\",\"url\":\"https://pokeapi.co/api/v2/version/22/\"}},{\"rarity\":50,\"version\":{\"name\":\"x\",\"url\":\"https://pokeapi.co/api/v2/version/23/\"}},{\"rarity\":50,\"version\":{\"name\":\"y\",\"url\":\"https://pokeapi.co/api/v2/version/24/\"}},{\"rarity\":50,\"version\":{\"name\":\"omega-ruby\",\"url\":\"https://pokeapi.co/api/v2/version/25/\"}},{\"rarity\":50,\"version\":{\"name\":\"alpha-sapphire\",\"url\":\"https://pokeapi.co/api/v2/version/26/\"}},{\"rarity\":50,\"version\":{\"name\":\"sun\",\"url\":\"https://pokeapi.co/api/v2/version/27/\"}},{\"rarity\":50,\"version\":{\"name\":\"moon\",\"url\":\"https://pokeapi.co/api/v2/version/28/\"}},{\"rarity\":50,\"version\":{\"name\":\"ultra-sun\",\"url\":\"https://pokeapi.co/api/v2/version/29/\"}},{\"rarity\":50,\"version\":{\"name\":\"ultra-moon\",\"url\":\"https://pokeapi.co/api/v2/version/30/\"}}]}],\"id\":132,\"is_default\":true,\"location_area_encounters\":\"https://pokeapi.co/api/v2/pokemon/132/encounters\",\"moves\":[{\"move\":{\"name\":\"transform\",\"url\":\"https://pokeapi.co/api/v2/move/144/\"},\"version_group_details\":[{\"level_learned_at\":1,\"move_learn_method\":{\"name\":\"level-up\",\"url\":\"https://pokeapi.co/api/v2/move-learn-method/1/\"},\"version_group\":{\"name\":\"red-blue\",\"url\":\"https://pokeapi.co/api/v2/version-group/1/\"}},{\"level_learned_at\":1,\"move_learn_method\":{\"name\":\"level-up\",\"url\":\"https://pokeapi.co/api/v2/move-learn-method/1/\"},\"version_group\":{\"name\":\"yellow\",\"url\":\"https://pokeapi.co/api/v2/version-group/2/\"}},{\"level_learned_at\":1,\"move_learn_method\":{\"name\":\"level-up\",\"url\":\"https://pokeapi.co/api/v2/move-learn-method/1/\"},\"version_group\":{\"name\":\"gold-silver\",\"url\":\"https://pokeapi.co/api/v2/version-group/3/\"}},{\"level_learned_at\":1,\"move_learn_method\":{\"name\":\"level-up\",\"url\":\"https://pokeapi.co/api/v2/move-learn-method/1/\"},\"version_group\":{\"name\":\"crystal\",\"url\":\"https://pokeapi.co/api/v2/version-group/4/\"}},{\"level_learned_at\":1,\"move_learn_method\":{\"name\":\"level-up\",\"url\":\"https://pokeapi.co/api/v2/move-learn-method/1/\"},\"version_group\":{\"name\":\"ruby-sapphire\",\"url\":\"https://pokeapi.co/api/v2/version-group/5/\"}},{\"level_learned_at\":1,\"move_learn_method\":{\"name\":\"level-up\",\"url\":\"https://pokeapi.co/api/v2/move-learn-method/1/\"},\"version_group\":{\"name\":\"emerald\",\"url\":\"https://pokeapi.co/api/v2/version-group/6/\"}},{\"level_learned_at\":1,\"move_learn_method\":{\"name\":\"level-up\",\"url\":\"https://pokeapi.co/api/v2/move-learn-method/1/\"},\"version_group\":{\"name\":\"firered-leafgreen\",\"url\":\"https://pokeapi.co/api/v2/version-group/7/\"}},{\"level_learned_at\":1,\"move_learn_method\":{\"name\":\"level-up\",\"url\":\"https://pokeapi.co/api/v2/move-learn-method/1/\"},\"version_group\":{\"name\":\"diamond-pearl\",\"url\":\"https://pokeapi.co/api/v2/version-group/8/\"}},{\"level_learned_at\":1,\"move_learn_method\":{\"name\":\"level-up\",\"url\":\"https://pokeapi.co/api/v2/move-learn-method/1/\"},\"version_group\":{\"name\":\"platinum\",\"url\":\"https://pokeapi.co/api/v2/version-group/9/\"}},{\"level_learned_at\":1,\"move_learn_method\":{\"name\":\"level-up\",\"url\":\"https://pokeapi.co/api/v2/move-learn-method/1/\"},\"version_group\":{\"name\":\"heartgold-soulsilver\",\"url\":\"https://pokeapi.co/api/v2/version-group/10/\"}},{\"level_learned_at\":1,\"move_learn_method\":{\"name\":\"level-up\",\"url\":\"https://pokeapi.co/api/v2/move-learn-method/1/\"},\"version_group\":{\"name\":\"black-white\",\"url\":\"https://pokeapi.co/api/v2/version-group/11/\"}},{\"level_learned_at\":1,\"move_learn_method\":{\"name\":\"level-up\",\"url\":\"https://pokeapi.co/api/v2/move-learn-method/1/\"},\"version_group\":{\"name\":\"colosseum\",\"url\":\"https://pokeapi.co/api/v2/version-group/12/\"}},{\"level_learned_at\":1,\"move_learn_method\":{\"name\":\"level-up\",\"url\":\"https://pokeapi.co/api/v2/move-learn-method/1/\"},\"version_group\":{\"name\":\"xd\",\"url\":\"https://pokeapi.co/api/v2/version-group/13/\"}},{\"level_learned_at\":1,\"move_learn_method\":{\"name\":\"level-up\",\"url\":\"https://pokeapi.co/api/v2/move-learn-method/1/\"},\"version_group\":{\"name\":\"black-2-white-2\",\"url\":\"https://pokeapi.co/api/v2/version-group/14/\"}},{\"level_learned_at\":1,\"move_learn_method\":{\"name\":\"level-up\",\"url\":\"https://pokeapi.co/api/v2/move-learn-method/1/\"},\"version_group\":{\"name\":\"x-y\",\"url\":\"https://pokeapi.co/api/v2/version-group/15/\"}},{\"level_learned_at\":1,\"move_learn_method\":{\"name\":\"level-up\",\"url\":\"https://pokeapi.co/api/v2/move-learn-method/1/\"},\"version_group\":{\"name\":\"omega-ruby-alpha-sapphire\",\"url\":\"https://pokeapi.co/api/v2/version-group/16/\"}},{\"level_learned_at\":1,\"move_learn_method\":{\"name\":\"level-up\",\"url\":\"https://pokeapi.co/api/v2/move-learn-method/1/\"},\"version_group\":{\"name\":\"sun-moon\",\"url\":\"https://pokeapi.co/api/v2/version-group/17/\"}},{\"level_learned_at\":1,\"move_learn_method\":{\"name\":\"level-up\",\"url\":\"https://pokeapi.co/api/v2/move-learn-method/1/\"},\"version_group\":{\"name\":\"ultra-sun-ultra-moon\",\"url\":\"https://pokeapi.co/api/v2/version-group/18/\"}},{\"level_learned_at\":1,\"move_learn_method\":{\"name\":\"level-up\",\"url\":\"https://pokeapi.co/api/v2/move-learn-method/1/\"},\"version_group\":{\"name\":\"lets-go-pikachu-lets-go-eevee\",\"url\":\"https://pokeapi.co/api/v2/version-group/19/\"}},{\"level_learned_at\":1,\"move_learn_method\":{\"name\":\"level-up\",\"url\":\"https://pokeapi.co/api/v2/move-learn-method/1/\"},\"version_group\":{\"name\":\"sword-shield\",\"url\":\"https://pokeapi.co/api/v2/version-group/20/\"}},{\"level_learned_at\":1,\"move_learn_method\":{\"name\":\"level-up\",\"url\":\"https://pokeapi.co/api/v2/move-learn-method/1/\"},\"version_group\":{\"name\":\"brilliant-diamond-and-shining-pearl\",\"url\":\"https://pokeapi.co/api/v2/version-group/23/\"}},{\"level_learned_at\":1,\"move_learn_method\":{\"name\":\"level-up\",\"url\":\"https://pokeapi.co/api/v2/move-learn-method/1/\"},\"version_group\":{\"name\":\"scarlet-violet\",\"url\":\"https://pokeapi.co/api/v2/version-group/25/\"}}]}],\"name\":\"ditto\",\"order\":214,\"past_abilities\":[],\"past_types\":[],\"species\":{\"name\":\"ditto\",\"url\":\"https://pokeapi.co/api/v2/pokemon-species/132/\"},\"sprites\":{\"back_default\":\"https://raw.githubusercontent.com/PokeAPI/sprites/master/sprites/pokemon/back/132.png\",\"back_female\":null,\"back_shiny\":\"https://raw.githubusercontent.com/PokeAPI/sprites/master/sprites/pokemon/back/shiny/132.png\",\"back_shiny_female\":null,\"front_default\":\"https://raw.githubusercontent.com/PokeAPI/sprites/master/sprites/pokemon/132.png\",\"front_female\":null,\"front_shiny\":\"https://raw.githubusercontent.com/PokeAPI/sprites/master/sprites/pokemon/shiny/132.png\",\"front_shiny_female\":null,\"other\":{\"dream_world\":{\"front_default\":\"https://raw.githubusercontent.com/PokeAPI/sprites/master/sprites/pokemon/other/dream-world/132.svg\",\"front_female\":null},\"home\":{\"front_default\":\"https://raw.githubusercontent.com/PokeAPI/sprites/master/sprites/pokemon/other/home/132.png\",\"front_female\":null,\"front_shiny\":\"https://raw.githubusercontent.com/PokeAPI/sprites/master/sprites/pokemon/other/home/shiny/132.png\",\"front_shiny_female\":null},\"official-artwork\":{\"front_default\":\"https://raw.githubusercontent.com/PokeAPI/sprites/master/sprites/pokemon/other/official-artwork/132.png\",\"front_shiny\":\"https://raw.githubusercontent.com/PokeAPI/sprites/master/sprites/pokemon/other/official-artwork/shiny/132.png\"},\"showdown\":{\"back_default\":\"https://raw.githubusercontent.com/PokeAPI/sprites/master/sprites/pokemon/other/showdown/back/132.gif\",\"back_female\":null,\"back_shiny\":\"https://raw.githubusercontent.com/PokeAPI/sprites/master/sprites/pokemon/other/showdown/back/shiny/132.gif\",\"back_shiny_female\":null,\"front_default\":\"https://raw.githubusercontent.com/PokeAPI/sprites/master/sprites/pokemon/other/showdown/132.gif\",\"front_female\":null,\"front_shiny\":\"https://raw.githubusercontent.com/PokeAPI/sprites/master/sprites/pokemon/other/showdown/shiny/132.gif\",\"front_shiny_female\":null}},\"versions\":{\"generation-i\":{\"red-blue\":{\"back_default\":\"https://raw.githubusercontent.com/PokeAPI/sprites/master/sprites/pokemon/versions/generation-i/red-blue/back/132.png\",\"back_gray\":\"https://raw.githubusercontent.com/PokeAPI/sprites/master/sprites/pokemon/versions/generation-i/red-blue/back/gray/132.png\",\"back_transparent\":\"https://raw.githubusercontent.com/PokeAPI/sprites/master/sprites/pokemon/versions/generation-i/red-blue/transparent/back/132.png\",\"front_default\":\"https://raw.githubusercontent.com/PokeAPI/sprites/master/sprites/pokemon/versions/generation-i/red-blue/132.png\",\"front_gray\":\"https://raw.githubusercontent.com/PokeAPI/sprites/master/sprites/pokemon/versions/generation-i/red-blue/gray/132.png\",\"front_transparent\":\"https://raw.githubusercontent.com/PokeAPI/sprites/master/sprites/pokemon/versions/generation-i/red-blue/transparent/132.png\"},\"yellow\":{\"back_default\":\"https://raw.githubusercontent.com/PokeAPI/sprites/master/sprites/pokemon/versions/generation-i/yellow/back/132.png\",\"back_gray\":\"https://raw.githubusercontent.com/PokeAPI/sprites/master/sprites/pokemon/versions/generation-i/yellow/back/gray/132.png\",\"back_transparent\":\"https://raw.githubusercontent.com/PokeAPI/sprites/master/sprites/pokemon/versions/generation-i/yellow/transparent/back/132.png\",\"front_default\":\"https://raw.githubusercontent.com/PokeAPI/sprites/master/sprites/pokemon/versions/generation-i/yellow/132.png\",\"front_gray\":\"https://raw.githubusercontent.com/PokeAPI/sprites/master/sprites/pokemon/versions/generation-i/yellow/gray/132.png\",\"front_transparent\":\"https://raw.githubusercontent.com/PokeAPI/sprites/master/sprites/pokemon/versions/generation-i/yellow/transparent/132.png\"}},\"generation-ii\":{\"crystal\":{\"back_default\":\"https://raw.githubusercontent.com/PokeAPI/sprites/master/sprites/pokemon/versions/generation-ii/crystal/back/132.png\",\"back_shiny\":\"https://raw.githubusercontent.com/PokeAPI/sprites/master/sprites/pokemon/versions/generation-ii/crystal/back/shiny/132.png\",\"back_shiny_transparent\":\"https://raw.githubusercontent.com/PokeAPI/sprites/master/sprites/pokemon/versions/generation-ii/crystal/transparent/back/shiny/132.png\",\"back_transparent\":\"https://raw.githubusercontent.com/PokeAPI/sprites/master/sprites/pokemon/versions/generation-ii/crystal/transparent/back/132.png\",\"front_default\":\"https://raw.githubusercontent.com/PokeAPI/sprites/master/sprites/pokemon/versions/generation-ii/crystal/132.png\",\"front_shiny\":\"https://raw.githubusercontent.com/PokeAPI/sprites/master/sprites/pokemon/versions/generation-ii/crystal/shiny/132.png\",\"front_shiny_transparent\":\"https://raw.githubusercontent.com/PokeAPI/sprites/master/sprites/pokemon/versions/generation-ii/crystal/transparent/shiny/132.png\",\"front_transparent\":\"https://raw.githubusercontent.com/PokeAPI/sprites/master/sprites/pokemon/versions/generation-ii/crystal/transparent/132.png\"},\"gold\":{\"back_default\":\"https://raw.githubusercontent.com/PokeAPI/sprites/master/sprites/pokemon/versions/generation-ii/gold/back/132.png\",\"back_shiny\":\"https://raw.githubusercontent.com/PokeAPI/sprites/master/sprites/pokemon/versions/generation-ii/gold/back/shiny/132.png\",\"front_default\":\"https://raw.githubusercontent.com/PokeAPI/sprites/master/sprites/pokemon/versions/generation-ii/gold/132.png\",\"front_shiny\":\"https://raw.githubusercontent.com/PokeAPI/sprites/master/sprites/pokemon/versions/generation-ii/gold/shiny/132.png\",\"front_transparent\":\"https://raw.githubusercontent.com/PokeAPI/sprites/master/sprites/pokemon/versions/generation-ii/gold/transparent/132.png\"},\"silver\":{\"back_default\":\"https://raw.githubusercontent.com/PokeAPI/sprites/master/sprites/pokemon/versions/generation-ii/silver/back/132.png\",\"back_shiny\":\"https://raw.githubusercontent.com/PokeAPI/sprites/master/sprites/pokemon/versions/generation-ii/silver/back/shiny/132.png\",\"front_default\":\"https://raw.githubusercontent.com/PokeAPI/sprites/master/sprites/pokemon/versions/generation-ii/silver/132.png\",\"front_shiny\":\"https://raw.githubusercontent.com/PokeAPI/sprites/master/sprites/pokemon/versions/generation-ii/silver/shiny/132.png\",\"front_transparent\":\"https://raw.githubusercontent.com/PokeAPI/sprites/master/sprites/pokemon/versions/generation-ii/silver/transparent/132.png\"}},\"generation-iii\":{\"emerald\":{\"front_default\":\"https://raw.githubusercontent.com/PokeAPI/sprites/master/sprites/pokemon/versions/generation-iii/emerald/132.png\",\"front_shiny\":\"https://raw.githubusercontent.com/PokeAPI/sprites/master/sprites/pokemon/versions/generation-iii/emerald/shiny/132.png\"},\"firered-leafgreen\":{\"back_default\":\"https://raw.githubusercontent.com/PokeAPI/sprites/master/sprites/pokemon/versions/generation-iii/firered-leafgreen/back/132.png\",\"back_shiny\":\"https://raw.githubusercontent.com/PokeAPI/sprites/master/sprites/pokemon/versions/generation-iii/firered-leafgreen/back/shiny/132.png\",\"front_default\":\"https://raw.githubusercontent.com/PokeAPI/sprites/master/sprites/pokemon/versions/generation-iii/firered-leafgreen/132.png\",\"front_shiny\":\"https://raw.githubusercontent.com/PokeAPI/sprites/master/sprites/pokemon/versions/generation-iii/firered-leafgreen/shiny/132.png\"},\"ruby-sapphire\":{\"back_default\":\"https://raw.githubusercontent.com/PokeAPI/sprites/master/sprites/pokemon/versions/generation-iii/ruby-sapphire/back/132.png\",\"back_shiny\":\"https://raw.githubusercontent.com/PokeAPI/sprites/master/sprites/pokemon/versions/generation-iii/ruby-sapphire/back/shiny/132.png\",\"front_default\":\"https://raw.githubusercontent.com/PokeAPI/sprites/master/sprites/pokemon/versions/generation-iii/ruby-sapphire/132.png\",\"front_shiny\":\"https://raw.githubusercontent.com/PokeAPI/sprites/master/sprites/pokemon/versions/generation-iii/ruby-sapphire/shiny/132.png\"}},\"generation-iv\":{\"diamond-pearl\":{\"back_default\":\"https://raw.githubusercontent.com/PokeAPI/sprites/master/sprites/pokemon/versions/generation-iv/diamond-pearl/back/132.png\",\"back_female\":null,\"back_shiny\":\"https://raw.githubusercontent.com/PokeAPI/sprites/master/sprites/pokemon/versions/generation-iv/diamond-pearl/back/shiny/132.png\",\"back_shiny_female\":null,\"front_default\":\"https://raw.githubusercontent.com/PokeAPI/sprites/master/sprites/pokemon/versions/generation-iv/diamond-pearl/132.png\",\"front_female\":null,\"front_shiny\":\"https://raw.githubusercontent.com/PokeAPI/sprites/master/sprites/pokemon/versions/generation-iv/diamond-pearl/shiny/132.png\",\"front_shiny_female\":null},\"heartgold-soulsilver\":{\"back_default\":\"https://raw.githubusercontent.com/PokeAPI/sprites/master/sprites/pokemon/versions/generation-iv/heartgold-soulsilver/back/132.png\",\"back_female\":null,\"back_shiny\":\"https://raw.githubusercontent.com/PokeAPI/sprites/master/sprites/pokemon/versions/generation-iv/heartgold-soulsilver/back/shiny/132.png\",\"back_shiny_female\":null,\"front_default\":\"https://raw.githubusercontent.com/PokeAPI/sprites/master/sprites/pokemon/versions/generation-iv/heartgold-soulsilver/132.png\",\"front_female\":null,\"front_shiny\":\"https://raw.githubusercontent.com/PokeAPI/sprites/master/sprites/pokemon/versions/generation-iv/heartgold-soulsilver/shiny/132.png\",\"front_shiny_female\":null},\"platinum\":{\"back_default\":\"https://raw.githubusercontent.com/PokeAPI/sprites/master/sprites/pokemon/versions/generation-iv/platinum/back/132.png\",\"back_female\":null,\"back_shiny\":\"https://raw.githubusercontent.com/PokeAPI/sprites/master/sprites/pokemon/versions/generation-iv/platinum/back/shiny/132.png\",\"back_shiny_female\":null,\"front_default\":\"https://raw.githubusercontent.com/PokeAPI/sprites/master/sprites/pokemon/versions/generation-iv/platinum/132.png\",\"front_female\":null,\"front_shiny\":\"https://raw.githubusercontent.com/PokeAPI/sprites/master/sprites/pokemon/versions/generation-iv/platinum/shiny/132.png\",\"front_shiny_female\":null}},\"generation-v\":{\"black-white\":{\"animated\":{\"back_default\":\"https://raw.githubusercontent.com/PokeAPI/sprites/master/sprites/pokemon/versions/generation-v/black-white/animated/back/132.gif\",\"back_female\":null,\"back_shiny\":\"https://raw.githubusercontent.com/PokeAPI/sprites/master/sprites/pokemon/versions/generation-v/black-white/animated/back/shiny/132.gif\",\"back_shiny_female\":null,\"front_default\":\"https://raw.githubusercontent.com/PokeAPI/sprites/master/sprites/pokemon/versions/generation-v/black-white/animated/132.gif\",\"front_female\":null,\"front_shiny\":\"https://raw.githubusercontent.com/PokeAPI/sprites/master/sprites/pokemon/versions/generation-v/black-white/animated/shiny/132.gif\",\"front_shiny_female\":null},\"back_default\":\"https://raw.githubusercontent.com/PokeAPI/sprites/master/sprites/pokemon/versions/generation-v/black-white/back/132.png\",\"back_female\":null,\"back_shiny\":\"https://raw.githubusercontent.com/PokeAPI/sprites/master/sprites/pokemon/versions/generation-v/black-white/back/shiny/132.png\",\"back_shiny_female\":null,\"front_default\":\"https://raw.githubusercontent.com/PokeAPI/sprites/master/sprites/pokemon/versions/generation-v/black-white/132.png\",\"front_female\":null,\"front_shiny\":\"https://raw.githubusercontent.com/PokeAPI/sprites/master/sprites/pokemon/versions/generation-v/black-white/shiny/132.png\",\"front_shiny_female\":null}},\"generation-vi\":{\"omegaruby-alphasapphire\":{\"front_default\":\"https://raw.githubusercontent.com/PokeAPI/sprites/master/sprites/pokemon/versions/generation-vi/omegaruby-alphasapphire/132.png\",\"front_female\":null,\"front_shiny\":\"https://raw.githubusercontent.com/PokeAPI/sprites/master/sprites/pokemon/versions/generation-vi/omegaruby-alphasapphire/shiny/132.png\",\"front_shiny_female\":null},\"x-y\":{\"front_default\":\"https://raw.githubusercontent.com/PokeAPI/sprites/master/sprites/pokemon/versions/generation-vi/x-y/132.png\",\"front_female\":null,\"front_shiny\":\"https://raw.githubusercontent.com/PokeAPI/sprites/master/sprites/pokemon/versions/generation-vi/x-y/shiny/132.png\",\"front_shiny_female\":null}},\"generation-vii\":{\"icons\":{\"front_default\":\"https://raw.githubusercontent.com/PokeAPI/sprites/master/sprites/pokemon/versions/generation-vii/icons/132.png\",\"front_female\":null},\"ultra-sun-ultra-moon\":{\"front_default\":\"https://raw.githubusercontent.com/PokeAPI/sprites/master/sprites/pokemon/versions/generation-vii/ultra-sun-ultra-moon/132.png\",\"front_female\":null,\"front_shiny\":\"https://raw.githubusercontent.com/PokeAPI/sprites/master/sprites/pokemon/versions/generation-vii/ultra-sun-ultra-moon/shiny/132.png\",\"front_shiny_female\":null}},\"generation-viii\":{\"icons\":{\"front_default\":\"https://raw.githubusercontent.com/PokeAPI/sprites/master/sprites/pokemon/versions/generation-viii/icons/132.png\",\"front_female\":null}}}},\"stats\":[{\"base_stat\":48,\"effort\":1,\"stat\":{\"name\":\"hp\",\"url\":\"https://pokeapi.co/api/v2/stat/1/\"}},{\"base_stat\":48,\"effort\":0,\"stat\":{\"name\":\"attack\",\"url\":\"https://pokeapi.co/api/v2/stat/2/\"}},{\"base_stat\":48,\"effort\":0,\"stat\":{\"name\":\"defense\",\"url\":\"https://pokeapi.co/api/v2/stat/3/\"}},{\"base_stat\":48,\"effort\":0,\"stat\":{\"name\":\"special-attack\",\"url\":\"https://pokeapi.co/api/v2/stat/4/\"}},{\"base_stat\":48,\"effort\":0,\"stat\":{\"name\":\"special-defense\",\"url\":\"https://pokeapi.co/api/v2/stat/5/\"}},{\"base_stat\":48,\"effort\":0,\"stat\":{\"name\":\"speed\",\"url\":\"https://pokeapi.co/api/v2/stat/6/\"}}],\"types\":[{\"slot\":1,\"type\":{\"name\":\"normal\",\"url\":\"https://pokeapi.co/api/v2/type/1/\"}}],\"weight\":40}\n",
            "Nome: ditto\n",
            "ID: 132\n",
            "Altura: 3\n",
            "Peso: 40\n",
            "Tipos:\n",
            "- normal\n"
          ]
        }
      ]
    },
    {
      "cell_type": "markdown",
      "source": [
        "# API The Dog"
      ],
      "metadata": {
        "id": "qhoBoAAGYGS-"
      }
    },
    {
      "cell_type": "code",
      "source": [
        "# Definindo a chave da API\n",
        "api_key = \"live_yjjcanPfmtXCVAJvjCtP3dFBB59SeVTL4b7ClpRl2lqXW4U6DlmUJ4v3qrWLH2uE\"\n",
        "\n",
        "# URL da API\n",
        "url = f\"https://api.thedogapi.com/v1/images/search?api_key={api_key}\"\n",
        "\n",
        "response = requests.get(url)\n",
        "\n",
        "print(response.text)\n",
        "\n",
        "# Tratando os dados\n",
        "data = response.json()\n",
        "\n",
        "print(data[0],['url'])"
      ],
      "metadata": {
        "colab": {
          "base_uri": "https://localhost:8080/"
        },
        "id": "ug_Wr00aYJjF",
        "outputId": "c593290e-5d0e-4ef1-fd52-2ca2272bc793"
      },
      "execution_count": 32,
      "outputs": [
        {
          "output_type": "stream",
          "name": "stdout",
          "text": [
            "[{\"breeds\":[],\"id\":\"S10gmTTVQ\",\"url\":\"https://cdn2.thedogapi.com/images/S10gmTTVQ.gif\",\"width\":360,\"height\":310}]\n",
            "{'breeds': [], 'id': 'S10gmTTVQ', 'url': 'https://cdn2.thedogapi.com/images/S10gmTTVQ.gif', 'width': 360, 'height': 310} ['url']\n"
          ]
        }
      ]
    },
    {
      "cell_type": "markdown",
      "source": [
        "# API The Cat"
      ],
      "metadata": {
        "id": "xuUgEa-WcTfv"
      }
    },
    {
      "cell_type": "code",
      "source": [
        "# Definindo a chave da API\n",
        "api_key = \"live_yjjcanPfmtXCVAJvjCtP3dFBB59SeVTL4b7ClpRl2lqXW4U6DlmUJ4v3qrWLH2uE\"\n",
        "\n",
        "# URL da API\n",
        "url = f\"https://api.thecatapi.com/v1/images/search?api_key={api_key}\"\n",
        "\n",
        "response = requests.get(url)\n",
        "\n",
        "print(response.text)\n",
        "\n",
        "# Tratando os dados\n",
        "data = response.json()\n",
        "\n",
        "print(data[0],['url'])"
      ],
      "metadata": {
        "colab": {
          "base_uri": "https://localhost:8080/"
        },
        "id": "-MS798VScbHG",
        "outputId": "31f2b3af-80f7-4b29-ca1f-f00a679c5837"
      },
      "execution_count": 33,
      "outputs": [
        {
          "output_type": "stream",
          "name": "stdout",
          "text": [
            "[{\"id\":\"MTkzNzE0MQ\",\"url\":\"https://cdn2.thecatapi.com/images/MTkzNzE0MQ.jpg\",\"width\":560,\"height\":420}]\n",
            "{'id': 'MTkzNzE0MQ', 'url': 'https://cdn2.thecatapi.com/images/MTkzNzE0MQ.jpg', 'width': 560, 'height': 420} ['url']\n"
          ]
        }
      ]
    },
    {
      "cell_type": "markdown",
      "source": [
        "# API NASA"
      ],
      "metadata": {
        "id": "NhKBL0sKlLHi"
      }
    },
    {
      "cell_type": "code",
      "source": [
        "from IPython.display import Image\n",
        "\n",
        "# Chave da API\n",
        "api_key = \"93XcsvH8dQRboSblD1V7Qcs1uuyMciUcSTVhtcM5\"\n",
        "\n",
        "# Definindo o endpoint\n",
        "endpoint = \"/planetary/apod\"\n",
        "#endpoint = \"/planetary/earth/imagery\n",
        "\n",
        "# Definindo a URL da API\n",
        "url = f\"https://api.nasa.gov{endpoint}?api_key={api_key}\"\n",
        "\n",
        "# Enviando a requisição\n",
        "response = requests.get(url).json()\n",
        "\n",
        "image_url = response['url']\n",
        "\n",
        "# Exibindo a imagem\n",
        "display(Image(url=image_url))\n",
        "\n",
        "# print(f\"Data: {response['date']}\")\n",
        "# print(f\"URL da Imagem: {response['url']}\")\n",
        "# print(f\"Descrição: {response['explanation']}\")\n",
        "print(response)"
      ],
      "metadata": {
        "colab": {
          "base_uri": "https://localhost:8080/",
          "height": 1000
        },
        "id": "qPd0uvfrlUPB",
        "outputId": "a9c303f7-2d19-4a1f-e6e8-3e1780df8f99"
      },
      "execution_count": 41,
      "outputs": [
        {
          "output_type": "display_data",
          "data": {
            "text/html": [
              "<img src=\"https://apod.nasa.gov/apod/image/2409/NightTatra_Rosadzinski_960.jpg\"/>"
            ],
            "text/plain": [
              "<IPython.core.display.Image object>"
            ]
          },
          "metadata": {}
        },
        {
          "output_type": "stream",
          "name": "stdout",
          "text": [
            "{'date': '2024-09-11', 'explanation': 'A natural border between Slovakia and Poland is the Tatra Mountains. A prominent destination for astrophotographers, the Tatras are the highest mountain range in the Carpathians. In the featured image taken in May, one can see the center of our Milky Way galaxy with two of its famous stellar nurseries, the Lagoon and Omega Nebula, just over the top of the Tatras. Stellar nurseries are full of ionized hydrogen, a fundamental component for the formation of Earth-abundant water. As a fundamental ingredient in all known forms of life, water is a crucial element in the Universe. Such water can be seen in the foreground in the form of the Bialka River.   Portal Universe: Random APOD Generator', 'hdurl': 'https://apod.nasa.gov/apod/image/2409/NightTatra_Rosadzinski_5028.jpg', 'media_type': 'image', 'service_version': 'v1', 'title': 'A Night Sky over the Tatra Mountains', 'url': 'https://apod.nasa.gov/apod/image/2409/NightTatra_Rosadzinski_960.jpg'}\n"
          ]
        }
      ]
    },
    {
      "cell_type": "markdown",
      "source": [
        "# API Star Wars"
      ],
      "metadata": {
        "id": "XYqExg-Tvh8G"
      }
    },
    {
      "cell_type": "code",
      "source": [
        "# Definindo endpoint\n",
        "endpoint = \"/people\"\n",
        "\n",
        "# Definindo a URL da API\n",
        "url = f\"https://swapi.dev/api{endpoint}\"\n",
        "\n",
        "# Fazendo a requisição\n",
        "response = requests.get(url).json()\n",
        "\n",
        "# Iterando no dicionário retornado\n",
        "for pessoa in response['results']:\n",
        "    print(\"=\" *40)\n",
        "    print(f\"Nome: {pessoa['name']}\")\n",
        "    print(f\"Gênero: {pessoa['gender']}\")\n",
        "    print(f\"Altura: {pessoa['height']} cm\")\n",
        "    print(f\"Peso: {pessoa['mass']} kg\")\n",
        "    print(\"Participação em: \")\n",
        "\n",
        "# iterando em cada filme\n",
        "    for filme_url in pessoa['films']:\n",
        "        response_filme = requests.get(filme_url).json()\n",
        "        print(f\"- {response_filme['title']}\")\n",
        "\n",
        "# Iterando\n"
      ],
      "metadata": {
        "colab": {
          "base_uri": "https://localhost:8080/"
        },
        "id": "q5Dk4d2ovlwl",
        "outputId": "b280a7a3-12ac-4c74-a881-065eaff29e20"
      },
      "execution_count": 55,
      "outputs": [
        {
          "output_type": "stream",
          "name": "stdout",
          "text": [
            "========================================\n",
            "Nome: Luke Skywalker\n",
            "Gênero: male\n",
            "Altura: 172 cm\n",
            "Peso: 77 kg\n",
            "Participação em: \n",
            "- A New Hope\n",
            "- The Empire Strikes Back\n",
            "- Return of the Jedi\n",
            "- Revenge of the Sith\n",
            "========================================\n",
            "Nome: C-3PO\n",
            "Gênero: n/a\n",
            "Altura: 167 cm\n",
            "Peso: 75 kg\n",
            "Participação em: \n",
            "- A New Hope\n",
            "- The Empire Strikes Back\n",
            "- Return of the Jedi\n",
            "- The Phantom Menace\n",
            "- Attack of the Clones\n",
            "- Revenge of the Sith\n",
            "========================================\n",
            "Nome: R2-D2\n",
            "Gênero: n/a\n",
            "Altura: 96 cm\n",
            "Peso: 32 kg\n",
            "Participação em: \n",
            "- A New Hope\n",
            "- The Empire Strikes Back\n",
            "- Return of the Jedi\n",
            "- The Phantom Menace\n",
            "- Attack of the Clones\n",
            "- Revenge of the Sith\n",
            "========================================\n",
            "Nome: Darth Vader\n",
            "Gênero: male\n",
            "Altura: 202 cm\n",
            "Peso: 136 kg\n",
            "Participação em: \n",
            "- A New Hope\n",
            "- The Empire Strikes Back\n",
            "- Return of the Jedi\n",
            "- Revenge of the Sith\n",
            "========================================\n",
            "Nome: Leia Organa\n",
            "Gênero: female\n",
            "Altura: 150 cm\n",
            "Peso: 49 kg\n",
            "Participação em: \n",
            "- A New Hope\n",
            "- The Empire Strikes Back\n",
            "- Return of the Jedi\n",
            "- Revenge of the Sith\n",
            "========================================\n",
            "Nome: Owen Lars\n",
            "Gênero: male\n",
            "Altura: 178 cm\n",
            "Peso: 120 kg\n",
            "Participação em: \n",
            "- A New Hope\n",
            "- Attack of the Clones\n",
            "- Revenge of the Sith\n",
            "========================================\n",
            "Nome: Beru Whitesun lars\n",
            "Gênero: female\n",
            "Altura: 165 cm\n",
            "Peso: 75 kg\n",
            "Participação em: \n",
            "- A New Hope\n",
            "- Attack of the Clones\n",
            "- Revenge of the Sith\n",
            "========================================\n",
            "Nome: R5-D4\n",
            "Gênero: n/a\n",
            "Altura: 97 cm\n",
            "Peso: 32 kg\n",
            "Participação em: \n",
            "- A New Hope\n",
            "========================================\n",
            "Nome: Biggs Darklighter\n",
            "Gênero: male\n",
            "Altura: 183 cm\n",
            "Peso: 84 kg\n",
            "Participação em: \n",
            "- A New Hope\n",
            "========================================\n",
            "Nome: Obi-Wan Kenobi\n",
            "Gênero: male\n",
            "Altura: 182 cm\n",
            "Peso: 77 kg\n",
            "Participação em: \n",
            "- A New Hope\n",
            "- The Empire Strikes Back\n",
            "- Return of the Jedi\n",
            "- The Phantom Menace\n",
            "- Attack of the Clones\n",
            "- Revenge of the Sith\n"
          ]
        }
      ]
    },
    {
      "cell_type": "markdown",
      "source": [
        "# API Trivia"
      ],
      "metadata": {
        "id": "Dg5C7vr9zcbb"
      }
    },
    {
      "cell_type": "code",
      "source": [
        "# Definindo URL da API\n",
        "url = \"https://opentdb.com/api.php?amount=10\"\n",
        "\n",
        "# Fazendo a requisição\n",
        "response = requests.get(url).json()\n",
        "\n",
        "# Iterar na lista retornada\n",
        "for pergunta in response['results']:\n",
        "  print(f\"Pergunta: {pergunta['question']}\")"
      ],
      "metadata": {
        "colab": {
          "base_uri": "https://localhost:8080/"
        },
        "id": "Akl0FAiuzhvE",
        "outputId": "f98ebc8c-ddc7-4710-d944-c927aa47a79a"
      },
      "execution_count": 58,
      "outputs": [
        {
          "output_type": "stream",
          "name": "stdout",
          "text": [
            "Pergunta: In the original script of &quot;The Matrix&quot;, the machines used humans as additional computing power instead of batteries.\n",
            "Pergunta: In &quot;Space Station 13&quot;,  the station has a clown aboard it.\n",
            "Pergunta: When did the British hand-over sovereignty of Hong Kong back to China?\n",
            "Pergunta: Which sign of the zodiac is represented by the Crab?\n",
            "Pergunta: Which country hosted the 2018 FIFA World Cup?\n",
            "Pergunta: The mountainous Khyber Pass connects which of the two following countries?\n",
            "Pergunta: The new One World Trade Center in Manhattan, New York City was designed by which architect? \n",
            "Pergunta: In Canadian football, scoring a rouge is worth how many points?\n",
            "Pergunta: According to the United States Constitution, how old must a person be to be elected President of the United States?\n",
            "Pergunta: Which U.S. President was in office when the Gulf War began?\n"
          ]
        }
      ]
    }
  ]
}